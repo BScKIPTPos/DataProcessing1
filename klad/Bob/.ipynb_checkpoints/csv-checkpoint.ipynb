{
 "cells": [
  {
   "cell_type": "code",
   "execution_count": 21,
   "metadata": {},
   "outputs": [],
   "source": [
    "import pandas as pd\n",
    "import numpy as np"
   ]
  },
  {
   "cell_type": "code",
   "execution_count": 29,
   "metadata": {},
   "outputs": [
    {
     "name": "stdout",
     "output_type": "stream",
     "text": [
      "             Origin  Year\n",
      "0       Afghanistan  1999\n",
      "1       Afghanistan  1999\n",
      "2       Afghanistan  1999\n",
      "3       Afghanistan  1999\n",
      "4       Afghanistan  1999\n",
      "5       Afghanistan  1999\n",
      "6       Afghanistan  1999\n",
      "7       Afghanistan  1999\n",
      "8       Afghanistan  1999\n",
      "9       Afghanistan  1999\n",
      "10      Afghanistan  1999\n",
      "11      Afghanistan  1999\n",
      "12          Albania  1999\n",
      "13          Albania  1999\n",
      "14          Albania  1999\n",
      "15          Albania  1999\n",
      "16          Albania  1999\n",
      "17          Albania  1999\n",
      "18          Albania  1999\n",
      "19          Albania  1999\n",
      "20          Albania  1999\n",
      "21          Albania  1999\n",
      "22          Albania  1999\n",
      "23          Algeria  1999\n",
      "24          Algeria  1999\n",
      "25          Algeria  1999\n",
      "26          Algeria  1999\n",
      "27          Algeria  1999\n",
      "28          Algeria  1999\n",
      "29          Algeria  1999\n",
      "...             ...   ...\n",
      "332159        Yemen  2017\n",
      "332160        Yemen  2017\n",
      "332161        Yemen  2017\n",
      "332162        Yemen  2017\n",
      "332163       Zambia  2016\n",
      "332164       Zambia  2016\n",
      "332165       Zambia  2016\n",
      "332166       Zambia  2016\n",
      "332167       Zambia  2016\n",
      "332168       Zambia  2016\n",
      "332169       Zambia  2017\n",
      "332170       Zambia  2017\n",
      "332171       Zambia  2017\n",
      "332172       Zambia  2017\n",
      "332173     Zimbabwe  2016\n",
      "332174     Zimbabwe  2016\n",
      "332175     Zimbabwe  2016\n",
      "332176     Zimbabwe  2016\n",
      "332177     Zimbabwe  2016\n",
      "332178     Zimbabwe  2016\n",
      "332179     Zimbabwe  2016\n",
      "332180     Zimbabwe  2016\n",
      "332181     Zimbabwe  2016\n",
      "332182     Zimbabwe  2016\n",
      "332183     Zimbabwe  2016\n",
      "332184     Zimbabwe  2016\n",
      "332185     Zimbabwe  2017\n",
      "332186     Zimbabwe  2017\n",
      "332187     Zimbabwe  2017\n",
      "332188     Zimbabwe  2017\n",
      "\n",
      "[332189 rows x 2 columns]\n"
     ]
    },
    {
     "name": "stderr",
     "output_type": "stream",
     "text": [
      "c:\\users\\boble\\appdata\\local\\programs\\python\\python36-32\\lib\\site-packages\\IPython\\core\\interactiveshell.py:2785: DtypeWarning: Columns (4) have mixed types. Specify dtype option on import or set low_memory=False.\n",
      "  interactivity=interactivity, compiler=compiler, result=result)\n"
     ]
    }
   ],
   "source": [
    "raw_data = pd.read_csv('unhcr_popstats_export_asylum_seekers_monthly_all_data.csv')\n",
    "df = pd.DataFrame(raw_data)\n",
    "\n",
    "# print alles:\n",
    "# print(df)\n",
    "\n",
    "# print specifieke kolommen:\n",
    "# print(df[['Origin', 'Year']])\n",
    "\n",
    "# print specifieke rijen:\n",
    "# print(df[['Origin', 'Year']])"
   ]
  }
 ],
 "metadata": {
  "kernelspec": {
   "display_name": "Python 3",
   "language": "python",
   "name": "python3"
  },
  "language_info": {
   "codemirror_mode": {
    "name": "ipython",
    "version": 3
   },
   "file_extension": ".py",
   "mimetype": "text/x-python",
   "name": "python",
   "nbconvert_exporter": "python",
   "pygments_lexer": "ipython3",
   "version": "3.6.5"
  }
 },
 "nbformat": 4,
 "nbformat_minor": 2
}

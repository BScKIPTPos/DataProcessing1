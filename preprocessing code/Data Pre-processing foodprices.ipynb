{
 "cells": [
  {
   "cell_type": "code",
   "execution_count": 2,
   "metadata": {},
   "outputs": [],
   "source": [
    "import pandas as pd\n",
    "# import raw data\n",
    "fIn=pd.read_csv(\"wipdata.csv\", encoding= \"latin1\")\n",
    "# remove useless columns\n",
    "keep_col = [\"adm0_name\", \"adm1_name\", \"mkt_name\", \"cm_name\", \"cur_name\", \"pt_name\", \"um_id\", \"um_name\", \"mp_month\", \"mp_year\", \"mp_price\"]\n",
    "# select countries\n",
    "keep_row = [\"Afghanistan\", \"Iraq\", \"Iran\", \"Lebanon\", \"Palestine\", \"Pakistan\"]\n",
    "new_f= fIn[keep_col]"
   ]
  },
  {
   "cell_type": "code",
   "execution_count": null,
   "metadata": {},
   "outputs": [],
   "source": [
    "#take data from countries\n",
    "me1 = new_f.loc[new_f['adm0_name'] == 'Syrian Arab Republic']\n",
    "me2 = new_f.loc[new_f['adm0_name'] == 'Afghanistan']\n",
    "me3 = new_f.loc[new_f['adm0_name'] == 'Iraq']\n",
    "me4 = new_f.loc[new_f['adm0_name'] == 'Lebanon']\n",
    "me5 = new_f.loc[new_f['adm0_name'] == 'Palestine']\n",
    "me6 = new_f.loc[new_f['adm0_name'] == 'Pakistan']\n",
    "me7 = new_f.loc[new_f['adm0_name'] == 'Iran (Islamic Republic of)']\n",
    "# combine data & add usable months & convert to csv\n",
    "predata_middle_east = [me1, me2, me3, me4, me5, me6, me7]\n",
    "data_middle_east = pd.concat(predata_middle_east)\n",
    "data_middle_east['Year'] = data_middle_east['mp_year'] + ((data_middle_east['mp_month']-1)/12)\n",
    "data_middle_east.to_csv(\"Food_prizes_MiddleEast_processed.csv\", encoding=\"utf-8\", index=True)\n",
    "data_middle_east"
   ]
  },
  {
   "cell_type": "code",
   "execution_count": 5,
   "metadata": {},
   "outputs": [
    {
     "data": {
      "text/html": [
       "<div>\n",
       "<style scoped>\n",
       "    .dataframe tbody tr th:only-of-type {\n",
       "        vertical-align: middle;\n",
       "    }\n",
       "\n",
       "    .dataframe tbody tr th {\n",
       "        vertical-align: top;\n",
       "    }\n",
       "\n",
       "    .dataframe thead th {\n",
       "        text-align: right;\n",
       "    }\n",
       "</style>\n",
       "<table border=\"1\" class=\"dataframe\">\n",
       "  <thead>\n",
       "    <tr style=\"text-align: right;\">\n",
       "      <th></th>\n",
       "      <th>um_id</th>\n",
       "      <th>mp_month</th>\n",
       "      <th>mp_year</th>\n",
       "      <th>mp_price</th>\n",
       "    </tr>\n",
       "  </thead>\n",
       "  <tbody>\n",
       "    <tr>\n",
       "      <th>count</th>\n",
       "      <td>52767.000000</td>\n",
       "      <td>52767.000000</td>\n",
       "      <td>52767.000000</td>\n",
       "      <td>5.276700e+04</td>\n",
       "    </tr>\n",
       "    <tr>\n",
       "      <th>mean</th>\n",
       "      <td>21.401520</td>\n",
       "      <td>6.477628</td>\n",
       "      <td>2014.591373</td>\n",
       "      <td>9.796675e+03</td>\n",
       "    </tr>\n",
       "    <tr>\n",
       "      <th>std</th>\n",
       "      <td>25.242796</td>\n",
       "      <td>3.403539</td>\n",
       "      <td>2.628212</td>\n",
       "      <td>1.213539e+05</td>\n",
       "    </tr>\n",
       "    <tr>\n",
       "      <th>min</th>\n",
       "      <td>5.000000</td>\n",
       "      <td>1.000000</td>\n",
       "      <td>2000.000000</td>\n",
       "      <td>0.000000e+00</td>\n",
       "    </tr>\n",
       "    <tr>\n",
       "      <th>25%</th>\n",
       "      <td>5.000000</td>\n",
       "      <td>4.000000</td>\n",
       "      <td>2014.000000</td>\n",
       "      <td>1.380000e+02</td>\n",
       "    </tr>\n",
       "    <tr>\n",
       "      <th>50%</th>\n",
       "      <td>5.000000</td>\n",
       "      <td>6.000000</td>\n",
       "      <td>2015.000000</td>\n",
       "      <td>5.875000e+02</td>\n",
       "    </tr>\n",
       "    <tr>\n",
       "      <th>75%</th>\n",
       "      <td>35.000000</td>\n",
       "      <td>9.000000</td>\n",
       "      <td>2016.000000</td>\n",
       "      <td>2.000000e+03</td>\n",
       "    </tr>\n",
       "    <tr>\n",
       "      <th>max</th>\n",
       "      <td>87.000000</td>\n",
       "      <td>12.000000</td>\n",
       "      <td>2017.000000</td>\n",
       "      <td>5.833333e+06</td>\n",
       "    </tr>\n",
       "  </tbody>\n",
       "</table>\n",
       "</div>"
      ],
      "text/plain": [
       "              um_id      mp_month       mp_year      mp_price\n",
       "count  52767.000000  52767.000000  52767.000000  5.276700e+04\n",
       "mean      21.401520      6.477628   2014.591373  9.796675e+03\n",
       "std       25.242796      3.403539      2.628212  1.213539e+05\n",
       "min        5.000000      1.000000   2000.000000  0.000000e+00\n",
       "25%        5.000000      4.000000   2014.000000  1.380000e+02\n",
       "50%        5.000000      6.000000   2015.000000  5.875000e+02\n",
       "75%       35.000000      9.000000   2016.000000  2.000000e+03\n",
       "max       87.000000     12.000000   2017.000000  5.833333e+06"
      ]
     },
     "execution_count": 5,
     "metadata": {},
     "output_type": "execute_result"
    }
   ],
   "source": [
    "data_middle_east.describe()"
   ]
  }
 ],
 "metadata": {
  "kernelspec": {
   "display_name": "Python 3",
   "language": "python",
   "name": "python3"
  },
  "language_info": {
   "codemirror_mode": {
    "name": "ipython",
    "version": 3
   },
   "file_extension": ".py",
   "mimetype": "text/x-python",
   "name": "python",
   "nbconvert_exporter": "python",
   "pygments_lexer": "ipython3",
   "version": "3.6.3"
  }
 },
 "nbformat": 4,
 "nbformat_minor": 2
}

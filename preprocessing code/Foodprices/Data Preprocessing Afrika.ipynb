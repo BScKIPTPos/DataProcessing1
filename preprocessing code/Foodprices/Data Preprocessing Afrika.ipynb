{
 "cells": [
  {
   "cell_type": "code",
   "execution_count": null,
   "metadata": {},
   "outputs": [],
   "source": [
    "import pandas as pd\n",
    "# import raw data\n",
    "fIn=pd.read_csv(\"wipdata.csv\", encoding= \"latin1\")\n",
    "# remove useless columns\n",
    "keep_col = [\"adm0_name\", \"adm1_name\", \"mkt_name\", \"cm_name\", \"cur_name\", \"pt_name\", \"um_id\", \"um_name\", \"mp_month\", \"mp_year\", \"mp_price\"]\n",
    "# select countries\n",
    "keep_row = ['Burkina faso',]\n",
    "new_f= fIn[keep_col]"
   ]
  }
 ],
 "metadata": {
  "kernelspec": {
   "display_name": "Python 3",
   "language": "python",
   "name": "python3"
  },
  "language_info": {
   "codemirror_mode": {
    "name": "ipython",
    "version": 3
   },
   "file_extension": ".py",
   "mimetype": "text/x-python",
   "name": "python",
   "nbconvert_exporter": "python",
   "pygments_lexer": "ipython3",
   "version": "3.6.3"
  }
 },
 "nbformat": 4,
 "nbformat_minor": 2
}

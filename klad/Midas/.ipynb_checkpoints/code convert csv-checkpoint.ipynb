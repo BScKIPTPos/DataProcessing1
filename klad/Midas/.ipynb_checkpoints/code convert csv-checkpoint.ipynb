{
 "cells": [
  {
   "cell_type": "code",
   "execution_count": null,
   "metadata": {},
   "outputs": [
    {
     "name": "stderr",
     "output_type": "stream",
     "text": [
      "c:\\users\\midas\\appdata\\local\\programs\\python\\python36-32\\lib\\site-packages\\IPython\\core\\interactiveshell.py:2728: DtypeWarning: Columns (4) have mixed types. Specify dtype option on import or set low_memory=False.\n",
      "  interactivity=interactivity, compiler=compiler, result=result)\n"
     ]
    }
   ],
   "source": [
    "import pandas as pd\n",
    "import numpy as np\n",
    "\n",
    "raw_data = pd.read_csv('unhcr_popstats_export_asylum_seekers_monthly_all_data.csv')\n",
    "\n",
    "df = pd.DataFrame(raw_data)\n",
    "\n",
    "af1 = df.loc[df['Origin'] == 'Burkina faso']\n",
    "af2 = df.loc[df['Origin'] == 'Cabo Verde']\n",
    "af3 = df.loc[df['Origin'] == 'Centrale Afrikaanse Republiek']\n",
    "af4 = df.loc[df['Origin'] == 'Burundi']\n",
    "af5 = df.loc[df['Origin'] == 'Democratic Republic of the Congo']\n",
    "af6 = df.loc[df['Origin'] == 'Djibouti']\n",
    "af7 = df.loc[df['Origin'] == 'Ehtiopië']\n",
    "af8 = df.loc[df['Origin'] == 'Gambië']\n",
    "af9 = df.loc[df['Origin'] == 'Guinea']\n",
    "af10 = df.loc[df['Origin'] == 'Kenia']\n",
    "af11 = df.loc[df['Origin'] == 'Lesotho']\n",
    "af12 = df.loc[df['Origin'] == 'Liberië']\n",
    "af13 = df.loc[df['Origin'] == 'Madagascar']\n",
    "af14 = df.loc[df['Origin'] == 'Malawi']\n",
    "af15 = df.loc[df['Origin'] == 'Mali']\n",
    "af16 = df.loc[df['Origin'] == 'Mauritanië']\n",
    "af17 = df.loc[df['Origin'] == 'Mozambique']\n",
    "af18 = df.loc[df['Origin'] == 'Niger']\n",
    "af19 = df.loc[df['Origin'] == 'Nigeria']\n",
    "af20 = df.loc[df['Origin'] == 'Rwanda']\n",
    "af21 = df.loc[df['Origin'] == 'Senegal']\n",
    "af22 = df.loc[df['Origin'] == 'Sierra Leone']\n",
    "af23 = df.loc[df['Origin'] == 'Somalië']\n",
    "af24 = df.loc[df['Origin'] == 'Zuid-Sudan']\n",
    "af25 = df.loc[df['Origin'] == 'Sudan']\n",
    "af26 = df.loc[df['Origin'] == 'Uganda']\n",
    "af27 = df.loc[df['Origin'] == 'Tanzania']\n",
    "af28 = df.loc[df['Origin'] == 'Zambia']\n",
    "af29 = df.loc[df['Origin'] == 'Zimbabwe']\n",
    "\n",
    "predata_africa = [af1, af2, af3, af4, af5, af6, af7, af8, af9, af10, \n",
    "                       af11, af12, af13, af14, af15, af16, af17, af18, af19, af20,\n",
    "                       af21, af22, af23, af24, af25, af26, af27, af28, af29]\n",
    "\n",
    "data_africa = pd.concat(predata_africa)\n",
    "data_africa\n"
   ]
  }
 ],
 "metadata": {
  "kernelspec": {
   "display_name": "Python 3",
   "language": "python",
   "name": "python3"
  },
  "language_info": {
   "codemirror_mode": {
    "name": "ipython",
    "version": 3
   },
   "file_extension": ".py",
   "mimetype": "text/x-python",
   "name": "python",
   "nbconvert_exporter": "python",
   "pygments_lexer": "ipython3",
   "version": "3.6.3"
  }
 },
 "nbformat": 4,
 "nbformat_minor": 2
}

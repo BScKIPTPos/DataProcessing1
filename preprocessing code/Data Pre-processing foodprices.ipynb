{
 "cells": [
  {
   "cell_type": "code",
   "execution_count": 1,
   "metadata": {},
   "outputs": [],
   "source": [
    "import pandas as pd\n",
    "fIn=pd.read_csv(\"wipdata.csv\", encoding= \"latin1\")\n",
    "keep_col = [\"adm0_name\", \"adm1_name\", \"mkt_name\", \"cm_name\", \"cur_name\", \"pt_name\", \"um_id\", \"um_name\", \"mp_month\", \"mp_year\", \"mp_price\"]\n",
    "keep_row = [\"Afghanistan\", \"Iraq\", \"Iran\", \"Lebanon\", \"Palestine\", \"Pakistan\"]\n",
    "new_f= fIn[keep_col]"
   ]
  },
  {
   "cell_type": "code",
   "execution_count": 2,
   "metadata": {},
   "outputs": [],
   "source": [
    "new_f\n",
    "data = new_f.loc[new_f['adm0_name'] == 'Afghanistan']"
   ]
  },
  {
   "cell_type": "code",
   "execution_count": 3,
   "metadata": {},
   "outputs": [],
   "source": [
    "me1 = new_f.loc[new_f['adm0_name'] == 'Syrian Arab Republic']\n",
    "me2 = new_f.loc[new_f['adm0_name'] == 'Afghanistan']\n",
    "me3 = new_f.loc[new_f['adm0_name'] == 'Iraq']\n",
    "me4 = new_f.loc[new_f['adm0_name'] == 'Lebanon']\n",
    "me5 = new_f.loc[new_f['adm0_name'] == 'Palestine']\n",
    "me6 = new_f.loc[new_f['adm0_name'] == 'Pakistan']\n",
    "me7 = new_f.loc[new_f['adm0_name'] == 'Iran (Islamic Republic of)']\n",
    "\n",
    "predata_middle_east = [me1, me2, me3, me4, me5, me6, me7]\n",
    "data_middle_east = pd.concat(predata_middle_east)\n",
    "data_middle_east.to_csv(\"Food_prizes_MiddleEast_processed.csv\", encoding=\"utf-8\", index=True)"
   ]
  }
 ],
 "metadata": {
  "kernelspec": {
   "display_name": "Python 3",
   "language": "python",
   "name": "python3"
  },
  "language_info": {
   "codemirror_mode": {
    "name": "ipython",
    "version": 3
   },
   "file_extension": ".py",
   "mimetype": "text/x-python",
   "name": "python",
   "nbconvert_exporter": "python",
   "pygments_lexer": "ipython3",
   "version": "3.6.3"
  }
 },
 "nbformat": 4,
 "nbformat_minor": 2
}

{
 "cells": [
  {
   "cell_type": "code",
   "execution_count": 14,
   "metadata": {},
   "outputs": [],
   "source": [
    "import pandas as pd\n",
    "import pyexcel\n",
    "import xlrd\n",
    "import xlsxwriter\n",
    "\n",
    "# writer class from module\n",
    "writer = pd.ExcelWriter('tas_pr_1991_2015_USETHIS.xlsx', engine='xlsxwriter')\n",
    "\n",
    "\n",
    "# collection of data\n",
    "\n",
    "# precipitation data\n",
    "pr = pd.read_excel('pr_1991_2015.xls', usecols = [0])\n",
    "\n",
    "# temperature data\n",
    "tas_t = pd.read_excel('tas_1991_2015.xls', usecols = [0])\n",
    "# year\n",
    "tas_y = pd.read_excel('tas_1991_2015.xls', usecols = [1])\n",
    "# month\n",
    "tas_m = pd.read_excel('tas_1991_2015.xls', usecols = [2])\n",
    "# country\n",
    "tas_c = pd.read_excel('tas_1991_2015.xls', usecols = [3])\n",
    "\n",
    "\n",
    "# dataframe = pd.read_excel('tas_1991_2015.xls')\n",
    "\n",
    "# dataframe['pr'] = pr\n",
    "\n",
    "# old print statement, use to check output if uncertain of product\n",
    "# print(dataframe)\n",
    "# DataFrame.to_excel(excel_writer, sheet_name='Sheet1', na_rep='', float_format=None, columns=None, header=True, index=True, index_label=None, startrow=0, startcol=0)\n",
    "# write to excel\n",
    "\n",
    "pr.to_excel(writer, 'sheet1',startcol = 0,index=True)\n",
    "tas_t.to_excel(writer, 'sheet1',startcol = 2,index=False)\n",
    "tas_y.to_excel(writer, 'sheet1',startcol = 3,index=False)\n",
    "tas_m.to_excel(writer, 'sheet1',startcol = 4,index=False)\n",
    "tas_c.to_excel(writer, 'sheet1',startcol = 5,index=False)\n",
    "\n",
    "# save writer file\n",
    "writer.save()\n",
    "\n",
    "data_xls = pd.read_excel('tas_pr_1991_2015_USETHIS.xlsx', 'sheet1', index_col=None)\n",
    "data_xls.to_csv('tas_pr_1991_2015_USETHIS.csv', encoding='utf-8', index=False)"
   ]
  },
  {
   "cell_type": "code",
   "execution_count": null,
   "metadata": {},
   "outputs": [],
   "source": []
  },
  {
   "cell_type": "code",
   "execution_count": null,
   "metadata": {},
   "outputs": [],
   "source": []
  }
 ],
 "metadata": {
  "kernelspec": {
   "display_name": "Python 3",
   "language": "python",
   "name": "python3"
  },
  "language_info": {
   "codemirror_mode": {
    "name": "ipython",
    "version": 3
   },
   "file_extension": ".py",
   "mimetype": "text/x-python",
   "name": "python",
   "nbconvert_exporter": "python",
   "pygments_lexer": "ipython3",
   "version": "3.5.2"
  }
 },
 "nbformat": 4,
 "nbformat_minor": 2
}
